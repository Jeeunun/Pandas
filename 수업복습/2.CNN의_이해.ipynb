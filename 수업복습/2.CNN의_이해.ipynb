{
 "cells": [
  {
   "cell_type": "raw",
   "metadata": {},
   "source": [
    "CNN (Convolutional Neural Networks)\n",
    "\n",
    "1. 왜 CNN 방법 등장배경\n",
    "일반 DNN(Deep Neural Networks)의 문제점 : \n",
    "(1) DNN은 기본적으로 1차원 형태의 데이터 사용. 때문에 2차원형태의 이미지가 입력값이 되는 경우, flatten()을 시켜서 한줄 데이터로 만들어야 하는데 이 과정에서 이미지의 공간적/지역적 정보가 손실되게 된다.\n",
    "(2) 추상화 과정 없이 바로 연산과정으로 넘어가 학습시간과 능률의 효율성 저하 \n",
    "\n",
    "2. CNN 쉽게 이해하기\n",
    "CNN은 이미지의 날 것을 그대로 받음으로써 공간적/지역적 정보를 유지한 채 특성(feature)들의 계층을 빌드업한다.\n",
    "CNN의 중요 포인트는 이미지 전체보다는 부분을 보는 것. 그리고 이미지의 한 픽셀과 주변 픽셀들의 연관성을 살리는 것. \n",
    "예를 들어 새의 이미지인지 아닌지 결정할 수 있는 모델을 만들 때, 새의 주요 특징인 새의 부리가 중요한 포인트가 될 수 있다.\n",
    "새의 전체 이미지에서 새의 부리는 비교적 작은 부분이기 때문에 전체 이미지를 보는 것보다는 새의 부리 부분을 잘라 보는게 효율적이다. 이것이 바로 CNN\n",
    "\n",
    "3. CNN의 컨셉들\n",
    "*2차원\n",
    "- 3-1. Convolution의 작동원리\n",
    "    input Image(2차원 이미지) + Filter(Kernel)\n",
    "    input Image의 모든 영역에 같은 Filter를 반복 적용해 패턴을 찾아 처리\n",
    "    => 즉, Filter를 이용해 연산처리 (방법 : INner product = 행렬곱)\n",
    "- 3-2. Zero Padding\n",
    "    Convolutional처리의 문제점 : input Image(5X5) Filter(3X3) 라 할 때, 결과값의 크기는 Filter의 크기(3X3) => 즉, 손실되는 부분이 발생\n",
    "    해결 : Zero Padding = 0으로 구성된 테두리를 이미지 가장자리에 감싸준다 생각하면 된다.\n",
    "            Input Image(5X5) 에 0으로 구성된 테두리 생성 => Input Image의 크기는 7 X 7 => Filter => 결과값은 5 X 5 (=손실되는 부분이 없어진다.)\n",
    "- 3-3. Stride\n",
    "    Stride : 필터를 얼마만큼 움직여 주는가에 대한 것. \n",
    "    Stride값이 1일 경우 필터를 한칸씩 움직여준다(기본값=1)\n",
    "    Stride값이 커질수록 필터가 이미지를 건너뛰는 칸이 커짐 = 결과값 이미지의 크기는 작아진다.\n",
    "\n",
    " *3차원   \n",
    "- 3-4. The Order-3 Tensor\n",
    "    Input Tensor(d1 X d2 X 3) 3차원 ->  Output matrix (d1-2) X (d2-2) 2차원\n",
    "\n",
    "4. CNN의 전체적인 네트워크 구조(예시를 통해 알아보기)\n",
    "- 4-1. 첫번째 Convolutional Layer (= convolution + Activation function)\n",
    "    input Image(28 * 28) + 10 Filters(Kernel) => Output Image(24*24) + 'Activation function'\n",
    "    한 개의 28*28 이미지 입력값에 10개의 5*5 필터를 사용하여 10의 24*24 matrix = Convolutional 결과값 생성\n",
    "    이 후, Convolutional에 Activation function 적용\n",
    "    즉, Convolutional Layer는 Convolutional처리 & Activation function으로 구성 (왜 활성함수를 쓸까? convolution에 비선형성을 추가하기 위함)\n",
    "- 4-2. 첫번째 Pooling Layer\n",
    "    Convolutional Layer에서 10개의 Output Image 생성 -> 값이 너무 많아지는 문제 발생 => 해결 : Pooling\n",
    "    Pooling : 각 결과값(feature map)의 dimentionality를 축소해주는 것이 목적. 즉, correlation이 낮은 부분을 삭제하여 각 결과값의 크기(dimension)을 축소\n",
    "    Pooling의 대표적인 방법에는 Max Pooling과 Average Pooling이 있다. \n",
    "- 4-3. 두번째 Convolutional Layer\n",
    "- 4-4. 두번째 Pooling Layer\n",
    "- 4-5. Flatten(Vectorization)\n",
    "- 4-6. Fully-Connected Layers(Dense Layers)\n",
    "\n",
    "\n",
    "\n",
    "https://halfundecided.medium.com/%EB%94%A5%EB%9F%AC%EB%8B%9D-%EB%A8%B8%EC%8B%A0%EB%9F%AC%EB%8B%9D-cnn-convolutional-neural-networks-%EC%89%BD%EA%B2%8C-%EC%9D%B4%ED%95%B4%ED%95%98%EA%B8%B0-836869f88375\n"
   ]
  },
  {
   "cell_type": "raw",
   "metadata": {},
   "source": []
  }
 ],
 "metadata": {
  "kernelspec": {
   "display_name": "Python 3",
   "language": "python",
   "name": "python3"
  },
  "language_info": {
   "name": "python",
   "version": "3.9.13"
  },
  "orig_nbformat": 4
 },
 "nbformat": 4,
 "nbformat_minor": 2
}
